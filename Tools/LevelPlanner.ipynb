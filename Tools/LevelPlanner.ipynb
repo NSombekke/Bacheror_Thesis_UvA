{
 "cells": [
  {
   "cell_type": "code",
   "execution_count": 7,
   "id": "84fd644d",
   "metadata": {},
   "outputs": [],
   "source": [
    "import numpy as np\n",
    "import csv"
   ]
  },
  {
   "cell_type": "code",
   "execution_count": 8,
   "id": "a09f4237",
   "metadata": {},
   "outputs": [],
   "source": [
    "levelIdx = 3\n",
    "runs = 10\n",
    "resolutions = [5, 7, 9, 11, 13, 15]"
   ]
  },
  {
   "cell_type": "code",
   "execution_count": 9,
   "id": "e481c2be",
   "metadata": {},
   "outputs": [],
   "source": [
    "def level1(numRuns, resolutions):\n",
    "    header = [\"run\", \"N\", \"goalX\", \"goalY\", \"obstDist\"]\n",
    "    goalXs = np.linspace(-4, 4, numRuns)\n",
    "    obstDists = np.linspace(2, 4, numRuns)\n",
    "    np.random.shuffle(obstDists)\n",
    "    goalY = 4\n",
    "    data = [header]\n",
    "    for N in resolutions:\n",
    "        for i, (goalX, obstDist) in enumerate(zip(goalXs, obstDists)):\n",
    "            data.append([i, N, goalX, goalY, obstDist])\n",
    "    return data\n",
    "\n",
    "def level2(numRuns, resolutions):\n",
    "    header = [\"run\", \"N\", \"goalX\", \"goalY\", \"obst1Dist\", \"obst2Dist\", \"obst2Angle\"]\n",
    "    goalXs = np.linspace(-4, 4, numRuns)\n",
    "    obst1Dists = np.linspace(2, 3.5, numRuns)\n",
    "    obst2Dists = np.linspace(4.5, 6, numRuns)\n",
    "    obst2Angles = np.linspace(-1, 1, numRuns)\n",
    "    np.random.shuffle(obst1Dists)\n",
    "    np.random.shuffle(obst2Angles)\n",
    "    goalY = 4\n",
    "    data = [header]\n",
    "    for N in resolutions:\n",
    "        for i, (goalX, obst1Dist, obst2Dist, obst2Angle) in enumerate(zip(goalXs, obst1Dists, obst2Dists, obst2Angles)):\n",
    "            data.append([i, N, goalX, goalY, obst1Dist, obst2Dist, obst2Angle])\n",
    "    return data\n",
    "\n",
    "def level3(numRuns, resolutions):\n",
    "    header = [\"run\", \"N\", \"goalX\", \"goalY\", \"obst1Dist\", \"obst2Dist\", \"obst2Angle\", \"obst3Dist\", \"obst3Angle\"]\n",
    "    goalXs = np.linspace(-4, 4, numRuns)\n",
    "    obst1Dists = np.linspace(1, 2.5, numRuns)\n",
    "    obst2Dists = np.linspace(3, 4.5, numRuns)\n",
    "    obst2Angles = np.linspace(-1, 1, numRuns)\n",
    "    obst3Dists = np.linspace(5, 6.5, numRuns)\n",
    "    obst3Angles = np.linspace(2.1, 4.2, numRuns)\n",
    "    np.random.shuffle(obst1Dists)\n",
    "    np.random.shuffle(obst2Dists)\n",
    "    np.random.shuffle(obst3Dists)\n",
    "    np.random.shuffle(obst2Angles)\n",
    "    np.random.shuffle(obst3Angles)\n",
    "    goalY = 4\n",
    "    data = [header]\n",
    "    for N in resolutions:\n",
    "        for i, (goalX, obst1Dist, obst2Dist, obst2Angle, obst3Dist, obst3Angle) in enumerate(zip(goalXs, obst1Dists, obst2Dists, obst2Angles, obst3Dists, obst3Angles)):\n",
    "            data.append([i, N, goalX, goalY, obst1Dist, obst2Dist, obst2Angle, obst3Dist, obst3Angle])\n",
    "    return data"
   ]
  },
  {
   "cell_type": "code",
   "execution_count": 10,
   "id": "d5ad6b1d",
   "metadata": {},
   "outputs": [],
   "source": [
    "with open(f'levels/level{levelIdx}.csv', 'w', encoding='UTF8', newline='') as f:\n",
    "    writer = csv.writer(f)\n",
    "    if levelIdx == 1:\n",
    "        writer.writerows(level1(runs, resolutions))\n",
    "    elif levelIdx == 2:\n",
    "        writer.writerows(level2(runs, resolutions))\n",
    "    elif levelIdx == 3:\n",
    "        writer.writerows(level3(runs, resolutions))"
   ]
  },
  {
   "cell_type": "code",
   "execution_count": null,
   "id": "02a0c9cc",
   "metadata": {},
   "outputs": [],
   "source": []
  }
 ],
 "metadata": {
  "kernelspec": {
   "display_name": "Python 3 (ipykernel)",
   "language": "python",
   "name": "python3"
  },
  "language_info": {
   "codemirror_mode": {
    "name": "ipython",
    "version": 3
   },
   "file_extension": ".py",
   "mimetype": "text/x-python",
   "name": "python",
   "nbconvert_exporter": "python",
   "pygments_lexer": "ipython3",
   "version": "3.10.5"
  }
 },
 "nbformat": 4,
 "nbformat_minor": 5
}
