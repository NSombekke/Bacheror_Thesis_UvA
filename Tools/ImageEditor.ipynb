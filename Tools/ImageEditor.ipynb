{
 "cells": [
  {
   "cell_type": "code",
   "execution_count": 1,
   "id": "c02d8bd1",
   "metadata": {},
   "outputs": [],
   "source": [
    "import matplotlib.pyplot as plt\n",
    "import numpy as np\n",
    "import cv2"
   ]
  },
  {
   "cell_type": "code",
   "execution_count": 2,
   "id": "d59579da",
   "metadata": {},
   "outputs": [],
   "source": [
    "colormap = plt.get_cmap('plasma')"
   ]
  },
  {
   "cell_type": "code",
   "execution_count": 8,
   "id": "1da7452e",
   "metadata": {},
   "outputs": [
    {
     "data": {
      "text/plain": [
       "-1"
      ]
     },
     "execution_count": 8,
     "metadata": {},
     "output_type": "execute_result"
    }
   ],
   "source": [
    "disparity = cv2.imread('disparity.png', 0)\n",
    "imgSize = 320\n",
    "N = 13\n",
    "stepSize = imgSize // N\n",
    "stepRemainder = imgSize - stepSize * N\n",
    "for x in range(0, imgSize - stepRemainder, imgSize//N):\n",
    "    squareMean = np.mean(disparity[imgSize//2 - (stepSize//2):imgSize//2 + (stepSize//2), x:x+stepSize])\n",
    "    disparity[imgSize//2 - (stepSize//2):imgSize//2 + (stepSize//2), x:x+stepSize] = int(squareMean)\n",
    "heatmap = (colormap(disparity) * 2**16).astype(np.uint16)[:,:,:3]\n",
    "heatmap = cv2.cvtColor(heatmap, cv2.COLOR_RGB2BGR)\n",
    "cv2.imwrite(f'avgN{N}.png', heatmap)\n",
    "cv2.waitKey()"
   ]
  },
  {
   "cell_type": "code",
   "execution_count": null,
   "id": "5688540c",
   "metadata": {},
   "outputs": [],
   "source": []
  }
 ],
 "metadata": {
  "kernelspec": {
   "display_name": "Python 3 (ipykernel)",
   "language": "python",
   "name": "python3"
  },
  "language_info": {
   "codemirror_mode": {
    "name": "ipython",
    "version": 3
   },
   "file_extension": ".py",
   "mimetype": "text/x-python",
   "name": "python",
   "nbconvert_exporter": "python",
   "pygments_lexer": "ipython3",
   "version": "3.10.5"
  }
 },
 "nbformat": 4,
 "nbformat_minor": 5
}
